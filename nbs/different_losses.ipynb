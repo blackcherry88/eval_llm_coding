{
 "cells": [
  {
   "cell_type": "markdown",
   "metadata": {},
   "source": [
    "# Understanding Different Losses in Binary and Multiclass Classification"
   ]
  },
  {
   "cell_type": "markdown",
   "metadata": {},
   "source": [
    "## Binary Classification Losses\n",
    "In binary classification, we typically use losses like Binary Cross-Entropy Loss. This loss measures the performance of a classification model whose output is a probability value between 0 and 1."
   ]
  },
  {
   "cell_type": "code",
   "execution_count": 11,
   "metadata": {},
   "outputs": [
    {
     "name": "stdout",
     "output_type": "stream",
     "text": [
      "Binary Cross-Entropy Loss: 0.27977660298347473\n"
     ]
    }
   ],
   "source": [
    "import torch\n",
    "import torch.nn as nn\n",
    "\n",
    "# Example of Binary Cross-Entropy Loss\n",
    "loss_fn = nn.BCELoss()\n",
    "predictions = torch.tensor([0.9, 0.4, 0.2], requires_grad=True)\n",
    "targets = torch.tensor([1.0, 0.0, 0.0])\n",
    "loss = loss_fn(predictions, targets)\n",
    "print(f'Binary Cross-Entropy Loss: {loss.item()}')"
   ]
  },
  {
   "cell_type": "markdown",
   "metadata": {},
   "source": [
    "### Manual Calculation of Binary Cross-Entropy Loss"
   ]
  },
  {
   "cell_type": "code",
   "execution_count": 12,
   "metadata": {},
   "outputs": [
    {
     "name": "stdout",
     "output_type": "stream",
     "text": [
      "Manual Binary Cross-Entropy Loss: 0.27977654337882996\n",
      "Library Binary Cross-Entropy Loss: 0.27977660298347473\n"
     ]
    }
   ],
   "source": [
    "import torch\n",
    "import torch.nn as nn\n",
    "\n",
    "# Manual calculation of Binary Cross-Entropy Loss\n",
    "predictions = torch.tensor([0.9, 0.4, 0.2], requires_grad=True)\n",
    "targets = torch.tensor([1.0, 0.0, 0.0])\n",
    "manual_loss = - (targets * torch.log(predictions) + (1 - targets) * torch.log(1 - predictions)).mean()\n",
    "print(f'Manual Binary Cross-Entropy Loss: {manual_loss.item()}')\n",
    "\n",
    "# Using BCELoss from PyTorch\n",
    "loss_fn = nn.BCELoss()\n",
    "library_loss = loss_fn(predictions, targets)\n",
    "print(f'Library Binary Cross-Entropy Loss: {library_loss.item()}')"
   ]
  },
  {
   "cell_type": "markdown",
   "metadata": {},
   "source": [
    "### Binary Cross-Entropy Loss with Multi-Dimensional Data"
   ]
  },
  {
   "cell_type": "code",
   "execution_count": 13,
   "metadata": {},
   "outputs": [
    {
     "name": "stdout",
     "output_type": "stream",
     "text": [
      "Binary Cross-Entropy Loss with Multi-Dimensional Data: 0.26561832427978516\n"
     ]
    }
   ],
   "source": [
    "import torch\n",
    "import torch.nn as nn\n",
    "\n",
    "# Example of Binary Cross-Entropy Loss with Multi-Dimensional Data\n",
    "loss_fn = nn.BCELoss()\n",
    "predictions = torch.tensor([[0.9, 0.4], [0.2, 0.8]], requires_grad=True)\n",
    "targets = torch.tensor([[1.0, 0.0], [0.0, 1.0]])\n",
    "loss = loss_fn(predictions, targets)\n",
    "print(f'Binary Cross-Entropy Loss with Multi-Dimensional Data: {loss.item()}')"
   ]
  },
  {
   "cell_type": "markdown",
   "metadata": {},
   "source": [
    "## Multiclass Classification Losses\n",
    "In multiclass classification, we use losses like Cross-Entropy Loss. This loss measures the performance of a classification model whose output is a probability distribution over multiple classes."
   ]
  },
  {
   "cell_type": "code",
   "execution_count": 14,
   "metadata": {},
   "outputs": [
    {
     "name": "stdout",
     "output_type": "stream",
     "text": [
      "Cross-Entropy Loss: 0.4170299768447876\n"
     ]
    }
   ],
   "source": [
    "import torch\n",
    "import torch.nn as nn\n",
    "\n",
    "# Example of Cross-Entropy Loss\n",
    "loss_fn = nn.CrossEntropyLoss()\n",
    "predictions = torch.tensor([[2.0, 1.0, 0.1], [0.1, 2.0, 1.0], [1.0, 0.1, 2.0]], requires_grad=True)\n",
    "targets = torch.tensor([0, 1, 2])\n",
    "loss = loss_fn(predictions, targets)\n",
    "print(f'Cross-Entropy Loss: {loss.item()}')"
   ]
  },
  {
   "cell_type": "markdown",
   "metadata": {},
   "source": [
    "### Manual Calculation of Cross-Entropy Loss"
   ]
  },
  {
   "cell_type": "code",
   "execution_count": 15,
   "metadata": {},
   "outputs": [
    {
     "name": "stdout",
     "output_type": "stream",
     "text": [
      "Manual Cross-Entropy Loss: 0.4170299768447876\n",
      "Library Cross-Entropy Loss: 0.4170299768447876\n"
     ]
    }
   ],
   "source": [
    "import torch\n",
    "import torch.nn as nn\n",
    "\n",
    "# Manual calculation of Cross-Entropy Loss\n",
    "predictions = torch.tensor([[2.0, 1.0, 0.1], [0.1, 2.0, 1.0], [1.0, 0.1, 2.0]], requires_grad=True)\n",
    "targets = torch.tensor([0, 1, 2])\n",
    "log_softmax = torch.nn.functional.log_softmax(predictions, dim=1)\n",
    "manual_loss = -log_softmax[range(targets.shape[0]), targets].mean()\n",
    "print(f'Manual Cross-Entropy Loss: {manual_loss.item()}')\n",
    "\n",
    "# Using CrossEntropyLoss from PyTorch\n",
    "loss_fn = nn.CrossEntropyLoss()\n",
    "library_loss = loss_fn(predictions, targets)\n",
    "print(f'Library Cross-Entropy Loss: {library_loss.item()}')"
   ]
  },
  {
   "cell_type": "markdown",
   "metadata": {},
   "source": [
    "### Multi-Dimensional and Multi-Class Loss Calculation"
   ]
  },
  {
   "cell_type": "code",
   "execution_count": 16,
   "metadata": {},
   "outputs": [
    {
     "name": "stdout",
     "output_type": "stream",
     "text": [
      "predictions: torch.Size([2, 2, 3]) targets: torch.Size([2, 2])\n",
      "Cross-Entropy Loss with Multi-Dimensional and Multi-Class Data: 0.4170299768447876\n",
      "Cross-Entropy Loss with Multi-Dimensional and Multi-Class Data: 0.4170299768447876\n"
     ]
    }
   ],
   "source": [
    "import torch\n",
    "import torch.nn as nn\n",
    "\n",
    "# Example of Cross-Entropy Loss with Multi-Dimensional and Multi-Class Data\n",
    "loss_fn = nn.CrossEntropyLoss()\n",
    "predictions = torch.tensor([[[2.0, 1.0, 0.1], [0.1, 2.0, 1.0]], [[1.0, 0.1, 2.0], [2.0, 1.0, 0.1]]], requires_grad=True)\n",
    "targets = torch.tensor([[0, 1], [2, 0]])\n",
    "print(f\"predictions: {predictions.shape} targets: {targets.shape}\") \n",
    "loss = loss_fn(predictions.view(-1, predictions.size(-1)), targets.view(-1))\n",
    "print(f'Cross-Entropy Loss with Multi-Dimensional and Multi-Class Data: {loss.item()}')\n",
    "\n",
    "predictions = predictions.transpose(1, 2)\n",
    "loss = loss_fn(predictions, targets)\n",
    "print(f'Cross-Entropy Loss with Multi-Dimensional and Multi-Class Data: {loss.item()}')\n"
   ]
  },
  {
   "cell_type": "markdown",
   "metadata": {},
   "source": [
    "### Loss Calculation on Logits"
   ]
  },
  {
   "cell_type": "code",
   "execution_count": 17,
   "metadata": {},
   "outputs": [
    {
     "name": "stdout",
     "output_type": "stream",
     "text": [
      "Cross-Entropy Loss on Logits: 0.4170299768447876\n"
     ]
    }
   ],
   "source": [
    "import torch\n",
    "import torch.nn as nn\n",
    "\n",
    "# Example of Cross-Entropy Loss on Logits\n",
    "loss_fn = nn.CrossEntropyLoss()\n",
    "logits = torch.tensor([[2.0, 1.0, 0.1], [0.1, 2.0, 1.0], [1.0, 0.1, 2.0]], requires_grad=True)\n",
    "targets = torch.tensor([0, 1, 2])\n",
    "loss = loss_fn(logits, targets)\n",
    "print(f'Cross-Entropy Loss on Logits: {loss.item()}')"
   ]
  },
  {
   "cell_type": "markdown",
   "metadata": {},
   "source": [
    "### Binary Loss Calculation on Logits"
   ]
  },
  {
   "cell_type": "code",
   "execution_count": 18,
   "metadata": {},
   "outputs": [
    {
     "name": "stdout",
     "output_type": "stream",
     "text": [
      "Binary Cross-Entropy Loss on Logits: 0.37248384952545166\n"
     ]
    }
   ],
   "source": [
    "import torch\n",
    "import torch.nn as nn\n",
    "\n",
    "# Example of Binary Cross-Entropy Loss on Logits\n",
    "loss_fn = nn.BCEWithLogitsLoss()\n",
    "logits = torch.tensor([0.9, -0.4, -1.2], requires_grad=True)\n",
    "targets = torch.tensor([1.0, 0.0, 0.0])\n",
    "loss = loss_fn(logits, targets)\n",
    "print(f'Binary Cross-Entropy Loss on Logits: {loss.item()}')"
   ]
  },
  {
   "cell_type": "code",
   "execution_count": null,
   "metadata": {},
   "outputs": [],
   "source": []
  }
 ],
 "metadata": {
  "kernelspec": {
   "display_name": "torch",
   "language": "python",
   "name": "python3"
  },
  "language_info": {
   "codemirror_mode": {
    "name": "ipython",
    "version": 3
   },
   "file_extension": ".py",
   "mimetype": "text/x-python",
   "name": "python",
   "nbconvert_exporter": "python",
   "pygments_lexer": "ipython3",
   "version": "3.11.10"
  }
 },
 "nbformat": 4,
 "nbformat_minor": 2
}
